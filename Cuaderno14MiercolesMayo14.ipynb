{
  "nbformat": 4,
  "nbformat_minor": 0,
  "metadata": {
    "colab": {
      "provenance": [],
      "include_colab_link": true
    },
    "kernelspec": {
      "name": "python3",
      "display_name": "Python 3"
    },
    "language_info": {
      "name": "python"
    }
  },
  "cells": [
    {
      "cell_type": "markdown",
      "metadata": {
        "id": "view-in-github",
        "colab_type": "text"
      },
      "source": [
        "<a href=\"https://colab.research.google.com/github/JuanJoe-18/Aplicadas-II/blob/main/Cuaderno14MiercolesMayo14.ipynb\" target=\"_parent\"><img src=\"https://colab.research.google.com/assets/colab-badge.svg\" alt=\"Open In Colab\"/></a>"
      ]
    },
    {
      "cell_type": "markdown",
      "source": [
        "**Ejemplo 1**\n",
        "\n",
        "Encuentre la linealización para la función $f(x,y)=\\sqrt{4-x^2-y^2}$ en el punto $(1,1)$\n",
        "\n",
        "**Solución:**\n",
        "\n",
        "La ecuación de la linealización es\n",
        "\n",
        "$$ L(x,y) = f(1,1) +f_x(1,1)(x-1) + f_y(1,1)(y-1) $$\n",
        "\n",
        "\n",
        "$f(1,1)= \\sqrt{4-1^2-1^2} = \\sqrt{4-1-1}=\\sqrt{2}$.\n",
        "\n",
        "Usando regla de la cadena llegamos a\n",
        "\n",
        "$$ f_x(x,y) = \\dfrac{-2x}{\\sqrt{4-x^2-y^2}} $$\n",
        "\n",
        "y\n",
        "\n",
        "$$ f_y(x,y) = \\dfrac{-2y}{\\sqrt{4-x^2-y^2}} $$\n",
        "\n",
        "evaluando tenemos $f_x(1,1)=f_y(1,1)=\\dfrac{-1}{\\sqrt{2}}$\n",
        "\n",
        "Ahora, la linealización es\n",
        "\n",
        "$$ L(x,y) = \\sqrt{2} -\\dfrac{1}{\\sqrt{2}}(x-1) - \\dfrac{1}{\\sqrt{2}}(y-1) $$"
      ],
      "metadata": {
        "id": "UgPRUnLaRUVB"
      }
    },
    {
      "cell_type": "markdown",
      "source": [
        "$ W = W(T,v) $, $T$ es la temperatura real y $v$ es la velocidad del aire.\n",
        "\n",
        "\n",
        "![](https://drive.google.com/uc?id=1qAcWm57aKrKvs9e72IGfJO2fLjNmLKm1)\n"
      ],
      "metadata": {
        "id": "FmhRRXGge6Lf"
      }
    }
  ]
}