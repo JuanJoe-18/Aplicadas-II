{
  "nbformat": 4,
  "nbformat_minor": 0,
  "metadata": {
    "colab": {
      "provenance": [],
      "include_colab_link": true
    },
    "kernelspec": {
      "name": "python3",
      "display_name": "Python 3"
    },
    "language_info": {
      "name": "python"
    }
  },
  "cells": [
    {
      "cell_type": "markdown",
      "metadata": {
        "id": "view-in-github",
        "colab_type": "text"
      },
      "source": [
        "<a href=\"https://colab.research.google.com/github/JuanJoe-18/Aplicadas-II/blob/main/Cuaderno15.ipynb\" target=\"_parent\"><img src=\"https://colab.research.google.com/assets/colab-badge.svg\" alt=\"Open In Colab\"/></a>"
      ]
    },
    {
      "cell_type": "markdown",
      "source": [
        "#Optimización para funciones de dos variables\n",
        "\n",
        "En este cuaderno estudiaremos la forma de encontrar máximos y/o mínimos para funciones de dos variables. Esta oparte de optimización es una de las aplicaciones mas útiles del cálculo, veremos que muchos de los conceptos aquí usados y/o definidos son muy parecidos a los que se usaron para funciones de una variable ne el curso de matemáticas aplicadas 1."
      ],
      "metadata": {
        "id": "2OFpis6KskdM"
      }
    },
    {
      "cell_type": "markdown",
      "source": [
        "#Extremos de funciones multivariables\n",
        "\n",
        "**Definición 1**\n",
        "\n",
        "\n",
        "\n",
        "1.   El número $f(a,b)$ se dice que es un **máximo relativo** de una función $z=f(x,y)$, si $ f(x,y)\\leq f(a,b) $ para todo $(x,y)$ en algún conjunto abierto que contenga a $(a,b)$.\n",
        "\n",
        "\n",
        "2.   El número $f(a,b)$ se dice que es un **mínimo relativo** de una función $z=f(x,y)$, si $ f(x,y)\\geq f(a,b) $ para todo $(x,y)$ en algún conjunto abierto que contenga a $(a,b)$.\n",
        "\n"
      ],
      "metadata": {
        "id": "SxnOqaOtYxsx"
      }
    },
    {
      "cell_type": "markdown",
      "source": [
        "**Definición 2**\n",
        "\n",
        "1.   El número $f(a,b)$ se dice que es un **máximo absoluto** de una función $z=f(x,y)$, si $ f(x,y)\\leq f(a,b) $ para todo $(x,y)$ en el dominio de la función $f$.\n",
        "\n",
        "\n",
        "2.   El número $f(a,b)$ se dice que es un **mínimo absoluto** de una función $z=f(x,y)$, si $ f(x,y)\\geq f(a,b) $ para todo $(x,y)$ en el dominio de la función $f$.\n",
        "\n"
      ],
      "metadata": {
        "id": "tQK2enfNQ4f4"
      }
    },
    {
      "cell_type": "markdown",
      "source": [
        "**Ejemplo 1.**\n",
        "\n",
        "La función $f(x,y)= x^2+y^2$, es tal que $f(x,y)\\geq f(0,0)$, esto debido a: $x^2 \\geq 0$ para todo $x \\in \\mathbb{R}$ y $y^2 \\geq 0$ para todo $y \\in \\mathbb{R}$, esto implica que $x^2 + y^2 \\geq 0$ para todo $(x,y) \\in \\mathbb{R}^2$, así que $f(0,0)=0$ es un mínimo absoluto y por tanto relativo y se alcanza en el punto $(0,0)$."
      ],
      "metadata": {
        "id": "f8qT8K7ptXJ1"
      }
    },
    {
      "cell_type": "markdown",
      "source": [
        "**Teorema 1.**\n",
        "\n",
        "Si una función tiene $f$ un extremo relativo en el punto $(a,b)$ y si las primeras derivadas parciales existen en este punto, entonces\n",
        "\n",
        "$$ f_x(a,b) = 0 \\ \\ \\ \\ \\ \\ \\text{y} \\ \\ \\ \\ \\ \\ f_y(a,b)=0 $$"
      ],
      "metadata": {
        "id": "AcRK9Xjxc9Bf"
      }
    },
    {
      "cell_type": "markdown",
      "source": [
        "**Ejemplo 2.**\n",
        "\n",
        "Para la función del ejemplo 1, tenemos que $f_x(x,y)=2x$ y $f_y(x,y)=2y$, de donde $f_x(0,0)=f_y(0,0)=0$, como la tesis del teorema anterior."
      ],
      "metadata": {
        "id": "c2Je5xpaufYV"
      }
    },
    {
      "cell_type": "markdown",
      "source": [
        "**Definición 3**\n",
        "\n",
        "Un **punto crítico** de una función $f$ es un punto $(a,b)$ en el dominio de $f$ para el\n",
        "cual $f_x(a,b)=0$ y $f_y(a,b)=0$ o si una de sus derivadas parciales no existe en el punto $(a,b)$."
      ],
      "metadata": {
        "id": "DpB9ernueKmy"
      }
    },
    {
      "cell_type": "markdown",
      "source": [
        "**Ejemplo 3.**\n",
        "\n",
        "$(0,0)$ es un punto crítico para la función del ejemplo 1."
      ],
      "metadata": {
        "id": "logOVdr4u6S9"
      }
    },
    {
      "cell_type": "markdown",
      "source": [
        "**Ejemplo 4.**\n",
        "\n",
        "Encuentre los puntos críticos de la función $$ f(x,y)= x^3 - 6xy + y^3 $$\n",
        "\n",
        "\n",
        "**Solución:**\n",
        "\n",
        "Note que esta es una función polinomial entonces no tiene puntos donde las derivadas parciuales no existan, ahora calculamos las derivadas parciales de primer orden, es decir, $f_x(x,y)$ y $f_y(x,y)$, en este caso\n",
        "\n",
        "$$ f_x(x,y) = 3x^2 - 6y, $$\n",
        "\n",
        "y $$ f_y(x,y) = -6x + 3y^2. $$\n",
        "\n",
        "Para encontrar los puntos críticos o estacionarios de la función $f$, tenemos que resolver el sistema\n",
        "\n",
        "$$ \\left\\{\\begin{array}{lcl}f_x(x,y) & = & 0, \\\\ f_y(x,y) & = & 0, \\end{array} \\right. $$\n",
        "\n",
        "por lo tanto el sistema que tenemos que resolver es\n",
        "\n",
        "$$ \\left\\{\\begin{array}{lcl} 3x^2 -6y & = & 0, \\\\ -6x + 3y^2 & = & 0,\\end{array} \\right. $$\n",
        "\n",
        "De la primera ecuación tenemos que $y=1/2x^2$, reemplazando en la segunda ecuación, tenemos\n",
        "\n",
        "$$ -6x + \\dfrac{3}{4}x^4=0$$\n",
        "\n",
        "factorizamos y se obtiene\n",
        "\n",
        "$$ 3x(\\dfrac{1}{4}x^3 -2)=0 $$\n",
        "\n",
        "De la última ecuación se tiene que $x=0$ o $x=2$. Si $x=0$, entonces $y=1/20^2=0$, entonces $(0,0)$ es un punto crítico. Ahora, si x=2, entonces $y=1/2(2^2)=2$, asi que $(2,2)$ es también punto crítico."
      ],
      "metadata": {
        "id": "52uZAoLRwtm0"
      }
    },
    {
      "cell_type": "markdown",
      "source": [
        "**Teorema 2.**\n",
        "\n",
        "Si una función $f$ tiene un extremo relativo en $(a,b)$, entonces $(a,b)$ es un punto crítico para $f$.\n",
        "\n"
      ],
      "metadata": {
        "id": "DNI-mihQ0V0p"
      }
    },
    {
      "cell_type": "markdown",
      "source": [
        "El teorema anterior es un resultado que nos permite concluir que lo primero que debemos verificar o encontrar para determinar los extremos de una función son los puntos críticos, lo que debemos determinar a continuar es si es máximo o mínimo, lo cual se puede intentar hacer mediante el uso de desigualdades, lo cual es bastante complicado, para evitar este proceso, tenemos el siguiente resultado análogo al teorema o criterio de la segunda derivada para funciones de una variable."
      ],
      "metadata": {
        "id": "xaTbNRnE2B8M"
      }
    },
    {
      "cell_type": "markdown",
      "source": [
        "**Teorema 3. (Prueba de las segundas derivadas parciales)**\n",
        "\n",
        "Suponga que $(a,b)$ es un punto crítico para la función $f$ y $f_{xx}$, $f_{yy}$, $f_{xy}$ y $f_{yx}$ son continuas en un disco abierto con centro en $(a,b)$. Considere o defina la cantidad\n",
        "\n",
        "$$ D(x,y) = |H(x,y)| = \\Bigg|\\begin{bmatrix} f_{xx}(x,y) & f_{xy}(x,y) \\\\ f_{yx}(x,y) & f_{yy}(x,y)\\end{bmatrix}\\Bigg| = f_{xx}(x,y)f_{yy}(x,y) - [f_{xy}(x,y)]^2 $$\n",
        "\n",
        "\n",
        "\n",
        "1.   Si $D(a,b)>0$ y $f_{xx}(a,b)>0$, entonces $f(a,b)$ es un valor mínimo relativo o local.\n",
        "\n",
        "2.   Si $D(a,b)>0$ y $f_{xx}(a,b)<0$, entonces $f(a,b)$ es un valor máximo relativo o local.\n",
        "\n",
        "3. Si $D(a,b)<0$, entonces $f(a,b)$ no es un extremo relativo.\n",
        "\n",
        "4. Si $D(a,b)=0$, entonces la prueba no aplica o no es concluyente.\n",
        "\n"
      ],
      "metadata": {
        "id": "6JdDDrB7erP1"
      }
    },
    {
      "cell_type": "markdown",
      "source": [
        "**Nota:**\n",
        "\n",
        "$D$ es un determinante, el determinante de la matriz $H$, la matriz $H$ se denomina matriz Hesiana."
      ],
      "metadata": {
        "id": "kbF72FYYhMg_"
      }
    },
    {
      "cell_type": "markdown",
      "source": [
        "**Ejemplo 5**\n",
        "\n",
        "Determine los extremos relativos de la función $$ f(x,y)= x^3 - 6xy + y^3 $$\n",
        "\n",
        "\n",
        "**Solución:**\n",
        "\n",
        "Primero debemos encontrar los puntos críticos (Lo cual se realizó en uno de los ejemplos anteriores de este cuaderno), Los puntos críticos son: $(0,0)$ y $(2,2)$. Ahora usaremos la matriz Hessiana para determinar si tenemos extremo relativo o punto silla, para esto debemos calcular las derivadas de segundo orden\n",
        "\n",
        "$$D(x,y)= |H(x,y)|= \\begin{vmatrix}f_{xx} & f_{xy}\\\\f_{yx} & f_{yy}\\end{vmatrix}=\\begin{vmatrix}6x & -6\\\\-6 & 6y\\end{vmatrix}=36xy -36.$$\n",
        "\n",
        "Evaluamos en los puntos críticos\n",
        "\n",
        "$$ D(0,0)=-36 < 0 $$\n",
        "\n",
        "por lo tanto en $(0,0)$ la función tiene un punto silla.\n",
        "\n",
        "$$D(2,2) = 36\\cdot4 - 36 =108 >0$$\n",
        "\n",
        "como $f_{xx}(2,2)= 6\\cdot 2 =12 >0$, entonces la función tiene un mínimo relativo en el punto $(2,2)$."
      ],
      "metadata": {
        "id": "djj2d1Gm387y"
      }
    }
  ]
}