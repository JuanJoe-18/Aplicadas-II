{
  "nbformat": 4,
  "nbformat_minor": 0,
  "metadata": {
    "colab": {
      "provenance": [],
      "include_colab_link": true
    },
    "kernelspec": {
      "name": "python3",
      "display_name": "Python 3"
    },
    "language_info": {
      "name": "python"
    }
  },
  "cells": [
    {
      "cell_type": "markdown",
      "metadata": {
        "id": "view-in-github",
        "colab_type": "text"
      },
      "source": [
        "<a href=\"https://colab.research.google.com/github/JuanJoe-18/Aplicadas-II/blob/main/Cuaderno12.ipynb\" target=\"_parent\"><img src=\"https://colab.research.google.com/assets/colab-badge.svg\" alt=\"Open In Colab\"/></a>"
      ]
    },
    {
      "cell_type": "markdown",
      "source": [
        "#Funciones de varias variables ($\\mathbb{R}^n$ a $\\mathbb{R}$)\n",
        "\n",
        "Una función $f$ de varias variables es una función cuyo dominio es un subconjunto de un espacio de la forma $\\mathbb{R}^n$ para $n>1$ y su imagen es un número real. Algunos ejemplos de funciones de varias variables y valor real\n",
        "\n",
        "\n",
        "\n",
        "1.   $f(x,y)= x+y$, funcion de dos variables.\n",
        "2.   $ g(x,y)=xy $, función de dos variables.\n",
        "3.   $h(x,y,z)=x^2 + y^2 + z^2$, funcion de tres variables\n",
        "4.   $f(x,y,z)=\\ln{(x+y)}$, función de tres variables\n",
        "5.   El área de un rectángulo de base $b$ y altura $h$ está dada por $A(b,h)=bh$. para este caso el dominio de esta función es el conjunto $D_a=\\{(x,y)\\ | \\ x > 0 \\ \\  \\text{y} \\ \\ y>0 \\}$.\n",
        "6.  El volumen de un cilindro circular recto de radio de base $r$ y altura $h$ está dado por $v(r,h)=\\pi r^2h$."
      ],
      "metadata": {
        "id": "nLVmRngo8FpY"
      }
    },
    {
      "cell_type": "markdown",
      "source": [
        "#Dominio de una función de dos variables.\n",
        "\n",
        "Para una función de dos variables, $f(x,y)$, el dominio de la función es un subconjunto de $\\mathbb{R}^2$ y es el conjunto de pares ordenados $(x,y)$ que hagan que la expresión algebraica que define a $f$ esté bien definida, por ejemplo, el dominio de la función $f(x,y) = xy$, es $D_f = \\{ (x,y) \\in \\mathbb{R}^2 | x\\in \\mathbb{R} \\ \\ \\text{y} \\ \\ y \\in \\mathbb{R}\\} = \\mathbb{R}^2$."
      ],
      "metadata": {
        "id": "WPmcYCbf9tH_"
      }
    },
    {
      "cell_type": "markdown",
      "source": [
        "**Ejemplo 1.**\n",
        "\n",
        "El dominio de la función $f(x,y)=\\dfrac{1}{y-x}$ es el conjunto\n",
        "\n",
        "$$ D_f = \\{ (x,y) \\in \\mathbb{R}^2  \\  | \\ y-x \\neq 0\\} $$\n",
        "$$ D_f = \\{ (x,y) \\in \\mathbb{R}^2 \\  | \\ y \\neq x\\} $$\n",
        "\n",
        "Es decir que en $D_f$ el punto $(1,1)$ no está presente, ya que $f(1,1)=\\dfrac{1}{0}$ el cual no es un número real o no está definido."
      ],
      "metadata": {
        "id": "eSpZRp9ABLGq"
      }
    },
    {
      "cell_type": "markdown",
      "source": [
        "#Gráficas de funciones de dos variables\n",
        "\n",
        "La gráfica de una función de dos variables está definida como el conjunto de puntos en $\\mathbb{R}^3$\n",
        "\n",
        "$$ Gra_f = \\{ (x,y,z) \\in \\mathbb{R}^3 \\ | \\ z = f(x,y) \\ \\ \\text{donde} \\ \\ (x,y) \\in D_f\\}. $$\n",
        "\n",
        "Es decir que la gráfica de la función de dos variables $f$ es un subconjunto de $\\mathbb{R}^3$ y es precisamente la gráfica de la superficie dada por la ecuación $z=f(x,y)$."
      ],
      "metadata": {
        "id": "PJElxy8kEcig"
      }
    },
    {
      "cell_type": "markdown",
      "source": [
        "**Ejemplo 2**\n",
        "\n",
        "La gráfica de la función $f(x,y)=0$, corresponde al plano xy en el espacio tridimensional $\\mathbb{R}^3$, este conjunto esta definido como\n",
        "\n",
        "$$ \\text{Gra}_f = \\{ (x,y,z) \\in \\mathbb{R}^3 \\ | \\ z = 0 \\ \\ \\text{donde} \\ \\ (x,y) \\in D_f\\}. $$\n",
        "\n",
        "La gráfica de esta función corresponde a la superficie $z=0$.\n"
      ],
      "metadata": {
        "id": "FI7iiup3FHLG"
      }
    },
    {
      "cell_type": "markdown",
      "source": [
        "**Ejemplo 3**\n",
        "\n",
        "La grafica de la función $f(x,y)=x-2y$, corresponde a la gráfica de un plano en $\\mathbb{R}^3$, dado por la ecuación $z = x -2y$, como en este caso el dominio de la función $f$ es todo $\\mathbb{R}^2$, entonces la gráfica de $f$ corresponde  a la gráfica del plano $$x - 2y - z = 0,$$ la cual es un plano que pasa por el origen $(0,0,0)$ y tiene como vector normal al vector $(1, -2,-1)$."
      ],
      "metadata": {
        "id": "TwCoL3rXO_vS"
      }
    },
    {
      "cell_type": "markdown",
      "source": [
        "#Curvas de nivel\n",
        "\n",
        "La curva de nivel $ c $ para una función de dos variables $f(x,y)$, se define como el conjunto de puntos $(x,y)$ tales que $$f(x,y) = c$$.\n",
        "\n",
        "**Ejemplo 4.**\n",
        "\n",
        "Las curvas de nivel para la función $f$ del ejemplo 3, corresponden a lineas rectas en $\\mathbb{R}^2$ cuyas ecuaciones estan dadas por\n",
        "\n",
        "$$ x - 2y = c $$\n",
        "\n",
        "es decir rectas de la forma\n",
        "\n",
        "$$ y = \\dfrac{x - c}{2} = \\dfrac{x}{2} - \\dfrac{c}{2}, $$\n",
        "\n",
        "las cuales son líneas rectas con pendiente $m = \\dfrac{1}{2}$ y corte con el eje $y$ en $(0, -c/2)$.\n",
        "\n",
        "La curva de nivel $c=0$, corresponde a la recta $y = \\dfrac{x}{2}$.\n",
        "\n",
        "La curva de nivel $c=1$, corresponde a la recta $y = \\dfrac{x}{2}- \\dfrac{1}{2}$.\n",
        "\n",
        "La curva de nivel $c=2$, corresponde a la recta $y = \\dfrac{x}{2} - 1$.\n",
        "\n",
        "La curva de nivel $c=3$, corresponde a la recta $y = \\dfrac{x}{2}- \\dfrac{3}{2}$.\n",
        "\n",
        "Si graficamos varias curvas de nivel en el mismo plano cartesiano obtenemos lo que se conoce como mapa de contorno para la función $f$, para este ejemplo tenemos que es mapa de contorno es el siguiente\n",
        "\n",
        "![](https://drive.google.com/uc?id=1J5XaeQlobzdRlLiH3BE1PnB3tH5w7gQk)"
      ],
      "metadata": {
        "id": "5JwMMHiNP0nU"
      }
    },
    {
      "cell_type": "markdown",
      "source": [
        "**Derivadas parciales**\n",
        "\n",
        "La derivada parcial de la función $f(x,y)$ con respecto a la variable $x$ en el punto $(a,b)$, se define mediante el límite\n",
        "\n",
        "$$ \\lim_{h \\to 0} \\dfrac{f(a+h,b)-f(a,b)}{h}  $$\n",
        "\n",
        "siempre que este límite exista. Si el límite existe se tiene la siguiente notación\n",
        "\n",
        "$$ \\dfrac{\\partial f}{\\partial x}(a,b) = f_x(a,b) $$\n",
        "\n",
        "\n",
        "La derivada parcial de la función $f(x,y)$ con respecto a la variable $y$ en el punto $(a,b)$, se define mediante el límite\n",
        "\n",
        "$$ \\lim_{h \\to 0} \\dfrac{f(a,b+h)-f(a,b)}{h}  $$\n",
        "\n",
        "siempre que este límite exista. Si ekl límite existe se tiene la siguiente notación\n",
        "\n",
        "$$ \\dfrac{\\partial f}{\\partial y}(a,b) = f_y(a,b) $$"
      ],
      "metadata": {
        "id": "buykGgWGOzGo"
      }
    },
    {
      "cell_type": "markdown",
      "source": [
        "#Cálculo numérico de derivadas parciales usando python\n",
        "\n",
        "**Ejemplo 5**\n",
        "\n",
        "Use python para aproximar $f_x(2,3)$ para $f(x,y)=x-y$\n",
        "\n"
      ],
      "metadata": {
        "id": "5-wt097TguF8"
      }
    },
    {
      "cell_type": "code",
      "source": [
        "import numpy as np\n",
        "def f(x,y):\n",
        "  return(x-y)\n",
        "\n",
        "#Aproximación derivada f con respecto a x en el punto (2,3)\n",
        "\n",
        "\n",
        "n=np.arange(1,100)\n",
        "h=1/n\n",
        "z = (f(2+h,3)-f(2,3))/h\n",
        "print(z)\n"
      ],
      "metadata": {
        "colab": {
          "base_uri": "https://localhost:8080/"
        },
        "id": "nF0M2tnMg-Bn",
        "outputId": "4186d3b1-a97b-4214-b155-a8b9e5d0be3c"
      },
      "execution_count": null,
      "outputs": [
        {
          "output_type": "stream",
          "name": "stdout",
          "text": [
            "[1. 1. 1. 1. 1. 1. 1. 1. 1. 1. 1. 1. 1. 1. 1. 1. 1. 1. 1. 1. 1. 1. 1. 1.\n",
            " 1. 1. 1. 1. 1. 1. 1. 1. 1. 1. 1. 1. 1. 1. 1. 1. 1. 1. 1. 1. 1. 1. 1. 1.\n",
            " 1. 1. 1. 1. 1. 1. 1. 1. 1. 1. 1. 1. 1. 1. 1. 1. 1. 1. 1. 1. 1. 1. 1. 1.\n",
            " 1. 1. 1. 1. 1. 1. 1. 1. 1. 1. 1. 1. 1. 1. 1. 1. 1. 1. 1. 1. 1. 1. 1. 1.\n",
            " 1. 1. 1.]\n"
          ]
        }
      ]
    },
    {
      "cell_type": "code",
      "source": [
        "h=-1/n\n",
        "z = (f(2+h,3)-f(2,3))/h\n",
        "print(z)"
      ],
      "metadata": {
        "colab": {
          "base_uri": "https://localhost:8080/"
        },
        "id": "OzsNuoYyY7PA",
        "outputId": "5a41f08a-2f43-4698-d7e5-90772a0b8d1b"
      },
      "execution_count": null,
      "outputs": [
        {
          "output_type": "stream",
          "name": "stdout",
          "text": [
            "[1. 1. 1. 1. 1. 1. 1. 1. 1. 1. 1. 1. 1. 1. 1. 1. 1. 1. 1. 1. 1. 1. 1. 1.\n",
            " 1. 1. 1. 1. 1. 1. 1. 1. 1. 1. 1. 1. 1. 1. 1. 1. 1. 1. 1. 1. 1. 1. 1. 1.\n",
            " 1. 1. 1. 1. 1. 1. 1. 1. 1. 1. 1. 1. 1. 1. 1. 1. 1. 1. 1. 1. 1. 1. 1. 1.\n",
            " 1. 1. 1. 1. 1. 1. 1. 1. 1. 1. 1. 1. 1. 1. 1. 1. 1. 1. 1. 1. 1. 1. 1. 1.\n",
            " 1. 1. 1.]\n"
          ]
        }
      ]
    },
    {
      "cell_type": "markdown",
      "source": [
        "**Ejemplo 6**\n",
        "\n",
        "Use python para aproximar $f_y(2,3)$ para $f(x,y)=x-y$"
      ],
      "metadata": {
        "id": "4gcRGiTQhLwh"
      }
    },
    {
      "cell_type": "code",
      "source": [
        "#Aproximación derivada f con respecto a y en el punto (2,3)\n",
        "\n",
        "n=np.arange(1,100)\n",
        "h=1/n\n",
        "z = (f(2,3+h)-f(2,3))/h\n",
        "print(z)"
      ],
      "metadata": {
        "colab": {
          "base_uri": "https://localhost:8080/"
        },
        "id": "Z0ef5MZahWln",
        "outputId": "6a2fc159-e17e-4f2f-ef14-d6771153dafc"
      },
      "execution_count": null,
      "outputs": [
        {
          "output_type": "stream",
          "name": "stdout",
          "text": [
            "[-1. -1. -1. -1. -1. -1. -1. -1. -1. -1. -1. -1. -1. -1. -1. -1. -1. -1.\n",
            " -1. -1. -1. -1. -1. -1. -1. -1. -1. -1. -1. -1. -1. -1. -1. -1. -1. -1.\n",
            " -1. -1. -1. -1. -1. -1. -1. -1. -1. -1. -1. -1. -1. -1. -1. -1. -1. -1.\n",
            " -1. -1. -1. -1. -1. -1. -1. -1. -1. -1. -1. -1. -1. -1. -1. -1. -1. -1.\n",
            " -1. -1. -1. -1. -1. -1. -1. -1. -1. -1. -1. -1. -1. -1. -1. -1. -1. -1.\n",
            " -1. -1. -1. -1. -1. -1. -1. -1. -1.]\n"
          ]
        }
      ]
    },
    {
      "cell_type": "markdown",
      "source": [
        "#Cálculo analítico de derivadas parciales\n",
        "\n",
        "Consideremos la función $f(x,y) = x^2y-3y^2$ y usemos la definición de la derivada parcial para encontrar una fórmula para $f_x(x,y)$\n",
        "\n",
        "$$ \\lim_{h \\to 0}\\dfrac{f(x+h,y)-f(x,y)}{h} = \\lim_{h \\to 0}\\dfrac{(x+h)^2y-3y^2-(x^2y-3y^2)}{h} = \\lim_{h \\to 0}\\dfrac{(x^2+2xh+h^2)y-3y^2-x^2y+3y^2}{h}=\\lim_{h \\to 0}\\dfrac{x^2y+2xyh+h^2y-3y^2-x^2y+3y^2}{h}=\\lim_{h \\to 0}\\dfrac{2xyh+h^2y}{h}=\\lim_{h \\to 0}\\dfrac{(2xy+hy)h}{h}=\\lim_{h \\to 0}2xy+hy = 2xy $$\n",
        "\n",
        "Con esto tenemos que\n",
        "\n",
        "$$ f_x(x,y)= 2xy. $$\n",
        "\n",
        "**Ejercicio 1**\n",
        "\n",
        "Calcule usando la definición de derivada parcial $f_y(x,y)$"
      ],
      "metadata": {
        "id": "iPImQdS2hr5K"
      }
    },
    {
      "cell_type": "markdown",
      "source": [
        "**Ejemplo 6**\n",
        "\n",
        "Calcule $f_x(x,y)$ usando la definición de la derivada parcial con respecto a $x$ para la función $$f(x,y) = \\dfrac{y}{x}$$\n",
        "\n",
        "**Solución**\n",
        "\n",
        "Para la derivada parcial con respecto a $x$, calculamos el siguiente límite\n",
        "\n",
        "$$ \\lim_{h\\to 0}\\dfrac{f(x+h,y)-f(x,y)}{h} = \\lim_{h\\to 0}\\dfrac{\\dfrac{y}{x+h} - \\dfrac{y}{x}}{h} = \\lim_{h\\to 0}\\dfrac{\\dfrac{yx -(x+h)y}{(x+h)x}}{h} = \\lim_{h\\to 0}\\dfrac{-yh}{hx(x+h)} = \\lim_{h\\to 0}\\dfrac{-y}{x(x+h)}=\\dfrac{-y}{x(x+0)}=-\\dfrac{y}{x^2}.$$\n",
        "\n",
        "Con esto podemos concluir\n",
        "\n",
        "$$ f_x(x,y) = -\\dfrac{y}{x^2} $$"
      ],
      "metadata": {
        "id": "3D-UBP4MkF5x"
      }
    },
    {
      "cell_type": "markdown",
      "source": [
        "**Ejemplo 7**\n",
        "\n",
        "Calcule las derivadas parciales de primer orden para $$f(x,y)=xye^{x^3-y^2}$$\n",
        "\n",
        "**Solución:**\n",
        "\n",
        "$$f_x(x,y) = (xye^{x^3-y^2})_x = (xy)_xe^{x^3-y^2} + xy(e^{x^3-y^2})_x = ye^{x^3-y^2} + xye^{x^3-y^2}(x^3-y^2)_x = ye^{x^3-y^2} + xye^{x^3-y^2}3x^2 = ye^{x^3-y^2} + 3x^3ye^{x^3-y^2}. $$\n",
        "\n",
        "\n",
        "$$f_y(x,y) = (xye^{x^3-y^2})_y = (xy)_ye^{x^3-y^2} + xy(e^{x^3-y^2})_y = xe^{x^3-y^2} + xye^{x^3-y^2}(x^3-y^2)_y = xe^{x^3-y^2} + xye^{x^3-y^2}(-2y) = xe^{x^3-y^2} -2xy^2e^{x^3-y^2}. $$"
      ],
      "metadata": {
        "id": "Qq27MTAnkQz3"
      }
    }
  ]
}