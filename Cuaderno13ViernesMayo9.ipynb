{
  "nbformat": 4,
  "nbformat_minor": 0,
  "metadata": {
    "colab": {
      "provenance": [],
      "include_colab_link": true
    },
    "kernelspec": {
      "name": "python3",
      "display_name": "Python 3"
    },
    "language_info": {
      "name": "python"
    }
  },
  "cells": [
    {
      "cell_type": "markdown",
      "metadata": {
        "id": "view-in-github",
        "colab_type": "text"
      },
      "source": [
        "<a href=\"https://colab.research.google.com/github/JuanJoe-18/Aplicadas-II/blob/main/Cuaderno13ViernesMayo9.ipynb\" target=\"_parent\"><img src=\"https://colab.research.google.com/assets/colab-badge.svg\" alt=\"Open In Colab\"/></a>"
      ]
    },
    {
      "cell_type": "markdown",
      "source": [
        "**Ejemplo 1.**\n",
        "\n",
        "$$ f(x,y) = \\ln{(y^2-x^2)} $$\n",
        "\n",
        "no es derivable en $(2,1)$"
      ],
      "metadata": {
        "id": "GNLGlzDJeEsK"
      }
    },
    {
      "cell_type": "markdown",
      "source": [
        "**Ejemplo 2.**\n",
        "\n",
        "$$ f(x,y) = \\sqrt{x^2+y^2} $$\n",
        "\n"
      ],
      "metadata": {
        "id": "7cEvjopce3kh"
      }
    },
    {
      "cell_type": "code",
      "source": [
        "import numpy as np\n",
        "\n",
        "def f(x,y):\n",
        "  return((x**2+y**2)**(0.5))\n",
        "\n",
        "n=np.arange(1,50)\n",
        "h=1/n\n",
        "z=(f(0,0+h)-f(0,0))/h\n",
        "z"
      ],
      "metadata": {
        "colab": {
          "base_uri": "https://localhost:8080/"
        },
        "id": "NsV6rf-sfIwq",
        "outputId": "6833fb92-4e1c-4d22-e94e-ef8f478b4f64"
      },
      "execution_count": null,
      "outputs": [
        {
          "output_type": "execute_result",
          "data": {
            "text/plain": [
              "array([1., 1., 1., 1., 1., 1., 1., 1., 1., 1., 1., 1., 1., 1., 1., 1., 1.,\n",
              "       1., 1., 1., 1., 1., 1., 1., 1., 1., 1., 1., 1., 1., 1., 1., 1., 1.,\n",
              "       1., 1., 1., 1., 1., 1., 1., 1., 1., 1., 1., 1., 1., 1., 1.])"
            ]
          },
          "metadata": {},
          "execution_count": 4
        }
      ]
    },
    {
      "cell_type": "code",
      "source": [
        "n=np.arange(1,200)\n",
        "h=1/n\n",
        "z=(f(0,0+h)-f(0,0))/h\n",
        "z[-10:]"
      ],
      "metadata": {
        "colab": {
          "base_uri": "https://localhost:8080/"
        },
        "id": "PPM8QjmMhATd",
        "outputId": "f79e53ed-27af-4e79-96a5-b8203a90f2cf"
      },
      "execution_count": null,
      "outputs": [
        {
          "output_type": "execute_result",
          "data": {
            "text/plain": [
              "array([1., 1., 1., 1., 1., 1., 1., 1., 1., 1.])"
            ]
          },
          "metadata": {},
          "execution_count": 7
        }
      ]
    },
    {
      "cell_type": "code",
      "source": [
        "n=np.arange(1,2000)\n",
        "h=1/n\n",
        "z=(f(0,0+h)-f(0,0))/h\n",
        "z[-10:]"
      ],
      "metadata": {
        "colab": {
          "base_uri": "https://localhost:8080/"
        },
        "id": "rtnXjfk0hLAN",
        "outputId": "202bf0fe-a33d-42e2-e910-71856f7c3e9e"
      },
      "execution_count": null,
      "outputs": [
        {
          "output_type": "execute_result",
          "data": {
            "text/plain": [
              "array([1., 1., 1., 1., 1., 1., 1., 1., 1., 1.])"
            ]
          },
          "metadata": {},
          "execution_count": 8
        }
      ]
    },
    {
      "cell_type": "code",
      "source": [
        "n=np.arange(1,200)\n",
        "h=-1/n\n",
        "z=(f(0,0+h)-f(0,0))/h\n",
        "z[-10:]"
      ],
      "metadata": {
        "colab": {
          "base_uri": "https://localhost:8080/"
        },
        "id": "b4wC3DHThsFb",
        "outputId": "574b1e41-69f7-43b2-a80a-464d76f19d37"
      },
      "execution_count": null,
      "outputs": [
        {
          "output_type": "execute_result",
          "data": {
            "text/plain": [
              "array([-1., -1., -1., -1., -1., -1., -1., -1., -1., -1.])"
            ]
          },
          "metadata": {},
          "execution_count": 9
        }
      ]
    },
    {
      "cell_type": "markdown",
      "source": [
        "Con lo anterior concluimos que\n",
        "\n",
        "$$ \\lim_{h \\to 0^+} \\dfrac{f(0,0+h)-f(0,0)}{h} = 1 $$\n",
        "\n",
        "y\n",
        "\n",
        "$$ \\lim_{h \\to 0^-} \\dfrac{f(0,0+h)-f(0,0)}{h} = -1 $$\n",
        "\n",
        "los límites laterales encontrados son diferentes, por lo tanto $f_y(0,0)$ no existe.\n",
        "\n"
      ],
      "metadata": {
        "id": "YqQIvVlhiFeq"
      }
    },
    {
      "cell_type": "markdown",
      "source": [
        "**Ejemplo 3.**\n",
        "\n",
        "$$ f(x,y) = |x| $$\n",
        "\n",
        "Determine si existen las siguientes derivadas parciales, si existen calculelas\n",
        "\n",
        "1. $f_x(0,0)$\n",
        "2. $f_x(0,1)$\n",
        "3. $f_x(1,0)$\n",
        "4. $f_y(0,0)$\n",
        "5. $f_y(0,1)$\n",
        "6. $f_y(1,0)$\n"
      ],
      "metadata": {
        "id": "FOy7dCHWlQDZ"
      }
    },
    {
      "cell_type": "code",
      "source": [
        "def f(x,y):\n",
        "  return(abs(x))\n",
        "\n",
        "n=np.arange(1,50)\n",
        "h=1/n\n",
        "z=(f(0+h,0)-f(0,0))/h\n",
        "z"
      ],
      "metadata": {
        "colab": {
          "base_uri": "https://localhost:8080/"
        },
        "id": "_Ulty8_IlWTy",
        "outputId": "c30c350a-944a-47a0-c1c1-6b0952ab0dba"
      },
      "execution_count": null,
      "outputs": [
        {
          "output_type": "execute_result",
          "data": {
            "text/plain": [
              "array([1., 1., 1., 1., 1., 1., 1., 1., 1., 1., 1., 1., 1., 1., 1., 1., 1.,\n",
              "       1., 1., 1., 1., 1., 1., 1., 1., 1., 1., 1., 1., 1., 1., 1., 1., 1.,\n",
              "       1., 1., 1., 1., 1., 1., 1., 1., 1., 1., 1., 1., 1., 1., 1.])"
            ]
          },
          "metadata": {},
          "execution_count": 15
        }
      ]
    },
    {
      "cell_type": "code",
      "source": [
        "n=np.arange(1,50)\n",
        "h=-1/n\n",
        "z=(f(0+h,0)-f(0,0))/h\n",
        "z"
      ],
      "metadata": {
        "colab": {
          "base_uri": "https://localhost:8080/"
        },
        "id": "B44wK7WkoZP1",
        "outputId": "685f3c38-9379-4c3a-e7b9-46641e74b559"
      },
      "execution_count": null,
      "outputs": [
        {
          "output_type": "execute_result",
          "data": {
            "text/plain": [
              "array([-1., -1., -1., -1., -1., -1., -1., -1., -1., -1., -1., -1., -1.,\n",
              "       -1., -1., -1., -1., -1., -1., -1., -1., -1., -1., -1., -1., -1.,\n",
              "       -1., -1., -1., -1., -1., -1., -1., -1., -1., -1., -1., -1., -1.,\n",
              "       -1., -1., -1., -1., -1., -1., -1., -1., -1., -1.])"
            ]
          },
          "metadata": {},
          "execution_count": 12
        }
      ]
    },
    {
      "cell_type": "markdown",
      "source": [
        "Entonces podemos concluir que $f_x(0,0)$ no existe debido a que los límites laterales son diferentes"
      ],
      "metadata": {
        "id": "uVoL_wd1ozjB"
      }
    },
    {
      "cell_type": "markdown",
      "source": [
        "**Ejemplo 5**\n",
        "\n",
        "Considere la función $$ f(x,y) = 4-8x^2 - 2y^2  $$\n",
        "\n",
        "Encuentre la linealización de $f$ en el punto (1,2). Grafique la función, el punto y la linealización.\n",
        "\n",
        "**Solución**\n",
        "\n",
        "$$f_x(x,y) = -16x, \\ \\ \\ \\ f_x(1,2) = -16$$\n",
        "\n",
        "$$ f_y(x,y) = -4y, \\ \\ \\ \\ f_y(1,2) = -8 $$\n",
        "\n",
        "Con esto tenemos\n",
        "\n",
        "$$ L(x,y) = f(1,2) + f_x(1,2)(x-1) + f_y(1,2)(y-2) $$\n",
        "\n",
        "$$ L(x,y) = -12 -16(x-1) -8(y-2) $$"
      ],
      "metadata": {
        "id": "H28lw-g7xfHD"
      }
    }
  ]
}